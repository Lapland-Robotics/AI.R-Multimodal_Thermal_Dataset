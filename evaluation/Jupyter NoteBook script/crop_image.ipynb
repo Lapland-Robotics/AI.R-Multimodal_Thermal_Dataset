{
 "cells": [
  {
   "cell_type": "markdown",
   "id": "07552dd8",
   "metadata": {},
   "source": [
    "# Image Cropper\n",
    "\n",
    "## Dependencies"
   ]
  },
  {
   "cell_type": "code",
   "execution_count": 49,
   "id": "948b7a27",
   "metadata": {},
   "outputs": [],
   "source": [
    "import os\n",
    "from PIL import Image\n",
    "import shutil"
   ]
  },
  {
   "cell_type": "markdown",
   "id": "c85e6618",
   "metadata": {},
   "source": [
    "## Parameters"
   ]
  },
  {
   "cell_type": "code",
   "execution_count": 50,
   "id": "28cc187a",
   "metadata": {},
   "outputs": [],
   "source": [
    "input_root = \"after_anonym\"\n",
    "output_root = \"after_crop\""
   ]
  },
  {
   "cell_type": "markdown",
   "id": "ed8b99fb",
   "metadata": {},
   "source": [
    "## Copy images in right folder"
   ]
  },
  {
   "cell_type": "code",
   "execution_count": 51,
   "id": "1aa097bc",
   "metadata": {},
   "outputs": [],
   "source": [
    "def MoveFiles(left_rgb_path, thermal_path, folder_name):\n",
    "    # Prepare output folder\n",
    "    out_folder = os.path.join(output_root, folder_name)\n",
    "    os.makedirs(out_folder, exist_ok=True)\n",
    "    \n",
    "    # Copy left_rbg.png and thermal.png as is\n",
    "    shutil.copy2(left_rgb_path, os.path.join(out_folder, \"left_rgb.png\"))\n",
    "    shutil.copy2(thermal_path, os.path.join(out_folder, \"thermal.png\"))\n",
    "    \n",
    "    print(f\"    Copied left_rgb.png and thermal.png to {out_folder}\")\n",
    "    return out_folder"
   ]
  },
  {
   "cell_type": "markdown",
   "id": "b476a3d6",
   "metadata": {},
   "source": [
    "## Load images"
   ]
  },
  {
   "cell_type": "code",
   "execution_count": 52,
   "id": "e3bb1ab5",
   "metadata": {},
   "outputs": [],
   "source": [
    "def LoadImages(left_rgb_path, thermal_path):\n",
    "    left_rgb = Image.open(left_rgb_path)\n",
    "    thermal = Image.open(thermal_path)\n",
    "    return left_rgb, thermal"
   ]
  },
  {
   "cell_type": "markdown",
   "id": "00b36f7d",
   "metadata": {},
   "source": [
    "## Crop Images\n",
    "\n",
    "### Version 1\n",
    "The first version output an image of the same size of the thermal image. It focus on having two image of the same size that show approximately the same thing"
   ]
  },
  {
   "cell_type": "code",
   "execution_count": 53,
   "id": "0f11f02b",
   "metadata": {},
   "outputs": [],
   "source": [
    "def CropToSizeImage(left_rgb, thermal):\n",
    "    # arbitrary offset values\n",
    "    offset_x = 165\n",
    "    offset_y = 47\n",
    "\n",
    "    # Determine crop box\n",
    "    thermal_width, thermal_height = thermal.size\n",
    "    crop_left = offset_x\n",
    "    crop_upper = offset_y\n",
    "    crop_right = offset_x + thermal_width\n",
    "    crop_lower = offset_y + thermal_height\n",
    "\n",
    "    # Safety check: avoid cropping outside bounds\n",
    "    left_width, left_height = left_rgb.size\n",
    "    crop_right = min(crop_right, left_width)\n",
    "    crop_lower = min(crop_lower, left_height)\n",
    "    crop_box = (crop_left, crop_upper, crop_right, crop_lower)\n",
    "\n",
    "    cropped_left_rgb = left_rgb.crop(crop_box) \n",
    "    return cropped_left_rgb"
   ]
  },
  {
   "cell_type": "markdown",
   "id": "99c45c8e",
   "metadata": {},
   "source": [
    "### Version 2\n",
    "The second version output an image of a different size of the thermal image to adjust the scale of the two images. It focus on having two images that show objects the same size in the foreground despite having different size."
   ]
  },
  {
   "cell_type": "code",
   "execution_count": 54,
   "id": "222731b7",
   "metadata": {},
   "outputs": [],
   "source": [
    "def CropAndScaleImage(left_rgb, thermal):\n",
    "    # arbitrary offset values\n",
    "\n",
    "    # keep same ratio as thermal image\n",
    "    # offset_x = 194\n",
    "    # offset_y = 62\n",
    "    # scale = 257/320\n",
    "\n",
    "    # change ratio to fit thermal image\n",
    "    offset_x = 185\n",
    "    offset_y = 62\n",
    "    scale_x = 267/320\n",
    "    scale_y = 196/240\n",
    "\n",
    "    # Determine crop box\n",
    "    thermal_width, thermal_height = thermal.size\n",
    "    crop_left = offset_x\n",
    "    crop_upper = offset_y\n",
    "    crop_right = int(offset_x + thermal_width*scale_x)\n",
    "    crop_lower = int(offset_y + thermal_height*scale_y)\n",
    "\n",
    "    # Safety check: avoid cropping outside bounds\n",
    "    left_width, left_height = left_rgb.size\n",
    "    crop_right = min(crop_right, left_width)\n",
    "    crop_lower = min(crop_lower, left_height)\n",
    "    crop_box = (crop_left, crop_upper, crop_right, crop_lower)\n",
    "\n",
    "    cropped_left_rgb = left_rgb.crop(crop_box) \n",
    "    return cropped_left_rgb"
   ]
  },
  {
   "cell_type": "markdown",
   "id": "22952296",
   "metadata": {},
   "source": [
    "## Save Image\n"
   ]
  },
  {
   "cell_type": "code",
   "execution_count": 55,
   "id": "2919fe83",
   "metadata": {},
   "outputs": [],
   "source": [
    "def SaveImage(cropped_left, cropped_and_scaled_left, out_folder):\n",
    "    cropped_left.save(os.path.join(out_folder, \"cropped_left_rgb.png\"))\n",
    "    cropped_and_scaled_left.save(os.path.join(out_folder, \"cropped_and_scaled_left_rgb.png\"))\n",
    "\n",
    "    print(f\"    Saved images to {out_folder}\")\n"
   ]
  },
  {
   "cell_type": "markdown",
   "id": "2ea769ac",
   "metadata": {},
   "source": [
    "## Loop to all files in input folder"
   ]
  },
  {
   "cell_type": "code",
   "execution_count": 56,
   "id": "7e3c760d",
   "metadata": {},
   "outputs": [
    {
     "name": "stdout",
     "output_type": "stream",
     "text": [
      "    Processing folder: 2025-03-24_14-11-45-485544\n",
      "    Copied left_rgb.png and thermal.png to after_crop\\2025-03-24_14-11-45-485544\n",
      "    Saved images to after_crop\\2025-03-24_14-11-45-485544\n",
      "    Processing folder: 2025-03-24_14-14-16-187470\n",
      "    Copied left_rgb.png and thermal.png to after_crop\\2025-03-24_14-14-16-187470\n",
      "    Saved images to after_crop\\2025-03-24_14-14-16-187470\n",
      "    Processing folder: 2025-03-24_14-20-10-670750\n",
      "    Copied left_rgb.png and thermal.png to after_crop\\2025-03-24_14-20-10-670750\n",
      "    Saved images to after_crop\\2025-03-24_14-20-10-670750\n",
      "    Processing folder: 2025-04-10_15-08-58-938683\n",
      "    Copied left_rgb.png and thermal.png to after_crop\\2025-04-10_15-08-58-938683\n",
      "    Saved images to after_crop\\2025-04-10_15-08-58-938683\n",
      "Processing complete!\n"
     ]
    }
   ],
   "source": [
    "for folder_name in os.listdir(input_root):\n",
    "    folder_path = os.path.join(input_root, folder_name)\n",
    "    if not os.path.isdir(folder_path):\n",
    "        continue  # Skip files\n",
    "    \n",
    "    print(f\"    Processing folder: {folder_name}\")\n",
    "\n",
    "    left_rgb_path = os.path.join(folder_path, \"left_rgb.png\")\n",
    "    thermal_path = os.path.join(folder_path, \"thermal.png\")\n",
    "\n",
    "    out_folder = MoveFiles(left_rgb_path, thermal_path, folder_name)\n",
    "    left_rgb, thermal = LoadImages(left_rgb_path, thermal_path)\n",
    "    cropped_left_rgb = CropToSizeImage(left_rgb, thermal)\n",
    "    cropped_and_scaled_left_rgb = CropAndScaleImage(left_rgb, thermal)\n",
    "\n",
    "    SaveImage(cropped_left_rgb, cropped_and_scaled_left_rgb, out_folder)\n",
    "\n",
    "print(\"Processing complete!\")"
   ]
  }
 ],
 "metadata": {
  "kernelspec": {
   "display_name": "Python 3",
   "language": "python",
   "name": "python3"
  },
  "language_info": {
   "codemirror_mode": {
    "name": "ipython",
    "version": 3
   },
   "file_extension": ".py",
   "mimetype": "text/x-python",
   "name": "python",
   "nbconvert_exporter": "python",
   "pygments_lexer": "ipython3",
   "version": "3.9.13"
  }
 },
 "nbformat": 4,
 "nbformat_minor": 5
}
